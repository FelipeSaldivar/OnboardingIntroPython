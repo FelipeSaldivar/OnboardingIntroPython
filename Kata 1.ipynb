{
 "cells": [
  {
   "cell_type": "code",
   "execution_count": 2,
   "metadata": {},
   "outputs": [
    {
     "name": "stdout",
     "output_type": "stream",
     "text": [
      "Today's date is: 2022-02-16\n"
     ]
    }
   ],
   "source": [
    "# Fecha del dia de hoy\n",
    "\n",
    "from datetime import date\n",
    "\n",
    "print(\"Today's date is: \"+str(date.today()))"
   ]
  },
  {
   "cell_type": "code",
   "execution_count": 9,
   "metadata": {},
   "outputs": [
    {
     "name": "stdout",
     "output_type": "stream",
     "text": [
      "11 parsec, son 35.877159999999996 años luz\n"
     ]
    }
   ],
   "source": [
    "# Conversion entre Parsecs y Años Luz\n",
    "\n",
    "parsecs= 11\n",
    "lightyear= 3.26156*parsecs\n",
    "\n",
    "print(str(parsecs)+\" parsec, son \"+str(lightyear)+\" años luz\")"
   ]
  }
 ],
 "metadata": {
  "interpreter": {
   "hash": "4dd9bd7fe6af6553ea93019e8b6b792753be72c62d3429a005a853a129a2aea0"
  },
  "kernelspec": {
   "display_name": "Python 3.10.2 64-bit",
   "language": "python",
   "name": "python3"
  },
  "language_info": {
   "codemirror_mode": {
    "name": "ipython",
    "version": 3
   },
   "file_extension": ".py",
   "mimetype": "text/x-python",
   "name": "python",
   "nbconvert_exporter": "python",
   "pygments_lexer": "ipython3",
   "version": "3.10.2"
  },
  "orig_nbformat": 4
 },
 "nbformat": 4,
 "nbformat_minor": 2
}
