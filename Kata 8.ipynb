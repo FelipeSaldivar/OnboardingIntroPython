{
 "cells": [
  {
   "cell_type": "markdown",
   "metadata": {},
   "source": [
    "## Kata 8 Diccionarios\n",
    "\n",
    "Ejercicio 1: Creacion de un diccionario\n",
    "Datos de circunferencia:\n",
    "* polar: 6752\n",
    "* equatorial: 6792\n"
   ]
  },
  {
   "cell_type": "code",
   "execution_count": 1,
   "metadata": {},
   "outputs": [
    {
     "name": "stdout",
     "output_type": "stream",
     "text": [
      "Marte tiene 2 lunas\n"
     ]
    }
   ],
   "source": [
    "# Crear diccionario\n",
    "planeta={\n",
    "    'Nombre':'Marte',\n",
    "    'Lunas': 2\n",
    "}\n",
    "\n",
    "#Mostrar nombre del planeta y su número de lunas\n",
    "print(f'{planeta[\"Nombre\"]} tiene {planeta[\"Lunas\"]} lunas')"
   ]
  },
  {
   "cell_type": "code",
   "execution_count": 4,
   "metadata": {},
   "outputs": [
    {
     "name": "stdout",
     "output_type": "stream",
     "text": [
      "Marte tiene una circunferencia polar de 6752\n"
     ]
    }
   ],
   "source": [
    "# Agregar la clave de las circunferencias\n",
    "planeta['circunferencia (km)']={\n",
    "    'Polar': 6752,\n",
    "    'Equatorial': 6792\n",
    "}\n",
    "\n",
    "#Imprimir el nombre del planeta con su circunferencia polar\n",
    "print(f'{planeta[\"Nombre\"]} tiene una circunferencia polar de {planeta[\"circunferencia (km)\"][\"Polar\"]}')"
   ]
  }
 ],
 "metadata": {
  "interpreter": {
   "hash": "4dd9bd7fe6af6553ea93019e8b6b792753be72c62d3429a005a853a129a2aea0"
  },
  "kernelspec": {
   "display_name": "Python 3.10.2 64-bit",
   "language": "python",
   "name": "python3"
  },
  "language_info": {
   "codemirror_mode": {
    "name": "ipython",
    "version": 3
   },
   "file_extension": ".py",
   "mimetype": "text/x-python",
   "name": "python",
   "nbconvert_exporter": "python",
   "pygments_lexer": "ipython3",
   "version": "3.10.2"
  },
  "orig_nbformat": 4
 },
 "nbformat": 4,
 "nbformat_minor": 2
}
