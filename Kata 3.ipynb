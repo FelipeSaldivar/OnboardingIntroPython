{
 "cells": [
  {
   "cell_type": "markdown",
   "metadata": {},
   "source": [
    "## Kata 3: Lógica Booleana"
   ]
  },
  {
   "cell_type": "markdown",
   "metadata": {},
   "source": [
    "Ejercicios if, else y elif:\n",
    "\n",
    "Problema 1:\n",
    "Para este ejercicio, escribirás una lógica condicional que imprima una advertencia si un asteroide se acerca a la Tierra demasiado rápido. La velocidad del asteroide varía dependiendo de lo cerca que esté del sol, y cualquier velocidad superior a 25 kilómetros por segundo (km/s) merece una advertencia.\n",
    "\n",
    "Un asteroide se acerca, y viaja a una velocidad de 49 km/s."
   ]
  },
  {
   "cell_type": "code",
   "execution_count": 14,
   "metadata": {},
   "outputs": [
    {
     "name": "stdout",
     "output_type": "stream",
     "text": [
      "Si es verdadero el argumento:\n",
      "Cuidado se acerca un asteroide a 49 km/s\n",
      "Si es falso el argumento:\n",
      "Todo bien, todo correto\n"
     ]
    }
   ],
   "source": [
    "# Añadir el código necesario para crear una variable que guarde la velocidad del asteroide.\n",
    "# Escribe una expresión de prueba para calcular si necesita una advertencia.\n",
    "# Agregue las instrucciones que se ejecutarán si la expresión de prueba es true o false.\n",
    "\n",
    "# Datos:\n",
    "V_asteroide=49\n",
    "print('Si es verdadero el argumento:')\n",
    "if V_asteroide>25:\n",
    "    print('Cuidado se acerca un asteroide a '+str(V_asteroide)+' km/s')\n",
    "else:\n",
    "    print('Todo bien, todo correcto') \n",
    "\n",
    "V_asteroide=20\n",
    "print('Si es falso el argumento:')\n",
    "if V_asteroide>25:\n",
    "    print('Cuidado se acerca un asteroide a '+str(V_asteroide)+' km/s')\n",
    "else:\n",
    "    print('Todo bien, todo correto')    "
   ]
  },
  {
   "cell_type": "markdown",
   "metadata": {},
   "source": [
    "Problema 2:\n",
    "Si un asteroide entra en la atmósfera de la Tierra a una velocidad mayor o igual a 20 km/s, a veces produce un rayo de luz que se puede ver desde la Tierra. Escribe la lógica condicional que usa declaraciones `if`, `else`, y `elif` para alertar a las personas de todo el mundo que deben buscar un asteroide en el cielo. ¡Hay uno que se dirige a la tierra ahora a una velocidad de 19 km/s!"
   ]
  },
  {
   "cell_type": "code",
   "execution_count": 13,
   "metadata": {},
   "outputs": [
    {
     "name": "stdout",
     "output_type": "stream",
     "text": [
      "Si el argumento es falso:\n",
      "No hay nada\n",
      "Si el argumento es verdadero:\n",
      "¡¡Mira!! ¡Hay una luz en el cielo!\n"
     ]
    }
   ],
   "source": [
    "# Agrega el código para crear una variable para un asteroide que viaja a 19 km/s\n",
    "# Escribe varias expresiones de prueba para determinar si puedes ver el rayo de luz desde la tierra\n",
    "# Agrega las instrucciones que se ejecutarán si las expresiones de prueba son True o False\n",
    "print('Si el argumento es falso:')\n",
    "asteroide=19\n",
    "if asteroide>20:\n",
    "    print('¡¡Mira!! ¡Hay una luz en el cielo!')\n",
    "elif asteroide == 20:\n",
    "    print('¡¡Mira!! ¡Hay una luz en el cielo!')\n",
    "else:\n",
    "    print('No hay nada')\n",
    "\n",
    "print('Si el argumento es verdadero:')\n",
    "asteroide=21\n",
    "if asteroide>20:\n",
    "    print('¡¡Mira!! ¡Hay una luz en el cielo!')\n",
    "elif asteroide == 20:\n",
    "    print('¡¡Mira!! ¡Hay una luz en el cielo!')\n",
    "else:\n",
    "    print('No hay nada')\n"
   ]
  },
  {
   "cell_type": "markdown",
   "metadata": {},
   "source": [
    "Ejercicio de operadores \"and\" y \"or\"\n",
    "\n",
    "En este ejercicio, aprenderás información más matizada sobre cuándo los asteroides representan un peligro para la Tierra, y utilizarás esa información para mejorar nuestro sistema de advertencia. Aquí está la nueva información que necesitas saber:\n",
    "\n",
    "*Los asteroides de menos de 25 metros en su dimensión más grande probablemente se quemarán a medida que entren en la atmósfera de la Tierra.\n",
    "* Si una pieza de un asteroide que es más grande que 25 metros pero más pequeña que 1000 metros golpeara la Tierra, causaría mucho daño.\n",
    "\n",
    "También discutimos en el ejercicio anterior que:\n",
    "\n",
    "* La velocidad del asteroide varía en función de lo cerca que esté del sol, y cualquier velocidad superior a 25 kilómetros por segundo (km/s) merece una advertencia.\n",
    "* Si un asteroide entra en la atmósfera de la Tierra a una velocidad mayor o igual a 20 km/s, a veces produce un rayo de luz que se puede ver desde la Tierra.\n",
    "\n",
    "Usando toda esta información, escribe un programa que emita la advertencia o información correcta a la gente de la Tierra, según la velocidad y el tamaño de un asteroide. Utiliza instrucciones `if`, `else`, y `elif`, así como los operadores `and` y `or`."
   ]
  },
  {
   "cell_type": "code",
   "execution_count": 20,
   "metadata": {},
   "outputs": [
    {
     "name": "stdout",
     "output_type": "stream",
     "text": [
      "Mira, hay una luz en el cielo!! Es hermoso y desconocido\n"
     ]
    }
   ],
   "source": [
    "# Agrega el código para crear nuevas variables para la velocidad y el tamaño del asteroide\n",
    "# Para probar el código, prueba con varias velocidades y tamaños\n",
    "# Escribe varias expresiones de prueba o combinaciones de expresiones de prueba para determinar qué mensaje se debe enviar a Tierra.\n",
    "\n",
    "vel_ateroide=20\n",
    "tam_asteroide=35\n",
    "\n",
    "if vel_ateroide>25 and tam_asteroide>25:\n",
    "    print('Advertencia, un asteroide se acerca a la Tierra!!')\n",
    "elif vel_ateroide>=20:\n",
    "    print('Mira, hay una luz en el cielo!! Es hermoso y desconocido')\n",
    "elif tam_asteroide<25:\n",
    "    print('No hay nada que ver :(')\n",
    "else:\n",
    "    print('No hay nada que ver :(')        "
   ]
  }
 ],
 "metadata": {
  "interpreter": {
   "hash": "4dd9bd7fe6af6553ea93019e8b6b792753be72c62d3429a005a853a129a2aea0"
  },
  "kernelspec": {
   "display_name": "Python 3.10.2 64-bit",
   "language": "python",
   "name": "python3"
  },
  "language_info": {
   "codemirror_mode": {
    "name": "ipython",
    "version": 3
   },
   "file_extension": ".py",
   "mimetype": "text/x-python",
   "name": "python",
   "nbconvert_exporter": "python",
   "pygments_lexer": "ipython3",
   "version": "3.10.2"
  },
  "orig_nbformat": 4
 },
 "nbformat": 4,
 "nbformat_minor": 2
}
