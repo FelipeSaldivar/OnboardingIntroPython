{
 "cells": [
  {
   "cell_type": "markdown",
   "metadata": {},
   "source": [
    "# Kata 5: Operadores aritméticos\n",
    "\n",
    "Ejercicio 1:\n",
    "\n",
    "Calcular la distancia entre dos planetas: Tierra (149.597.870 km) y Júpiter (778.547.200 km) y convertir el resultado de la distancia a millas (multiplicar por 0.621)"
   ]
  },
  {
   "cell_type": "code",
   "execution_count": 8,
   "metadata": {},
   "outputs": [],
   "source": [
    "from math import ceil, floor"
   ]
  },
  {
   "cell_type": "code",
   "execution_count": 10,
   "metadata": {},
   "outputs": [
    {
     "name": "stdout",
     "output_type": "stream",
     "text": [
      "La distancia entre los palnetas es: 628949330 km\n",
      "La distancia en millas es: 390577534 millas\n"
     ]
    }
   ],
   "source": [
    "# Datos\n",
    "d_Tierra=149597870\n",
    "d_Jupiter=778547200\n",
    "\n",
    "# Cálculo de la distancia\n",
    "d_total=d_Jupiter-d_Tierra\n",
    "print('La distancia entre los palnetas es: '+str(d_total)+' km')\n",
    "\n",
    "# Distancia en millas\n",
    "d_en_millas=round(d_total*0.621)\n",
    "print('La distancia en millas es: '+str(d_en_millas)+' millas')"
   ]
  },
  {
   "cell_type": "markdown",
   "metadata": {},
   "source": [
    "Ejercicio 2:\n",
    "Crear aplicacion para trabajr con números y entrada de usuario.\n",
    "\n",
    "* Tabla con datos para probar el notebook\n",
    "\n",
    "| Planeta  | Distancia al sol |\n",
    "| ------- | ----------------- |\n",
    "| Mercurio | 57900000          |\n",
    "| Venus   | 108200000         |\n",
    "| Tierra   | 149600000         |\n",
    "| Marte    | 227900000         |\n",
    "| Júpiter | 778600000         |\n",
    "| Saturno  | 1433500000        |\n",
    "| Urano  | 2872500000        |\n",
    "| Neptuno | 4495100000        |"
   ]
  },
  {
   "cell_type": "code",
   "execution_count": 13,
   "metadata": {},
   "outputs": [
    {
     "name": "stdout",
     "output_type": "stream",
     "text": [
      "La distancia entre los planetas es: 4267200000 km\n",
      "La distancia entre los planetas en millas es: 2649931200.0 millas\n"
     ]
    }
   ],
   "source": [
    "# Lectura de valores\n",
    "planeta_1=input(\"Intruduzca la distancia al sol del primer planeta:\")\n",
    "planeta_2=input(\"Introduzca la distancia al sol del segundo planeta:\")\n",
    "\n",
    "# Conversion de cadena a entero\n",
    "p1=int(planeta_1)\n",
    "p2=int(planeta_2)\n",
    "\n",
    "# Cálculo de distacia\n",
    "dt=p2-p1\n",
    "print('La distancia entre los planetas es: '+str(abs(dt))+' km')\n",
    "\n",
    "# Conversion de km a millas\n",
    "dm=dt*0.621\n",
    "print('La distancia entre los planetas en millas es: '+str(abs(dm))+' millas')"
   ]
  }
 ],
 "metadata": {
  "interpreter": {
   "hash": "4dd9bd7fe6af6553ea93019e8b6b792753be72c62d3429a005a853a129a2aea0"
  },
  "kernelspec": {
   "display_name": "Python 3.10.2 64-bit",
   "language": "python",
   "name": "python3"
  },
  "language_info": {
   "codemirror_mode": {
    "name": "ipython",
    "version": 3
   },
   "file_extension": ".py",
   "mimetype": "text/x-python",
   "name": "python",
   "nbconvert_exporter": "python",
   "pygments_lexer": "ipython3",
   "version": "3.10.2"
  },
  "orig_nbformat": 4
 },
 "nbformat": 4,
 "nbformat_minor": 2
}
