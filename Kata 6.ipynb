{
 "cells": [
  {
   "cell_type": "markdown",
   "metadata": {},
   "source": [
    "# Kata6 Listas\n",
    "\n",
    "Ejercicio 1:\n",
    "Usar listas para almacenar nombres de planetas."
   ]
  },
  {
   "cell_type": "code",
   "execution_count": 3,
   "metadata": {},
   "outputs": [
    {
     "name": "stdout",
     "output_type": "stream",
     "text": [
      "Hay  8  en el sistema solar.\n"
     ]
    }
   ],
   "source": [
    "# Crear y mostrar la lista de planetas\n",
    "planetas=['Mercurio', 'Venus', 'Tierra', 'Marte', 'Jupiter', 'Saturno', 'Urano', 'Neptuno']\n",
    "print('Hay ', len(planetas), ' en el sistema solar.')"
   ]
  },
  {
   "cell_type": "code",
   "execution_count": 4,
   "metadata": {},
   "outputs": [
    {
     "name": "stdout",
     "output_type": "stream",
     "text": [
      "Plutón  es el último planeta.\n"
     ]
    }
   ],
   "source": [
    "# Agregar Plutón y mostrar el último elemento\n",
    "planetas.append('Plutón')\n",
    "print(planetas[-1], ' es el último planeta.')"
   ]
  },
  {
   "cell_type": "markdown",
   "metadata": {},
   "source": [
    "Ejercicio 2:\n",
    "Trabajar con datos de una lista. Usar slices para recuperar partes de una rista"
   ]
  },
  {
   "cell_type": "code",
   "execution_count": 5,
   "metadata": {},
   "outputs": [
    {
     "name": "stdout",
     "output_type": "stream",
     "text": [
      "Los planetas mas cercanos que Tierra\n",
      "['Mercurio', 'Venus']\n",
      "Los planetas mas lejanos que Tierra\n",
      "['Marte', 'Jupiter', 'Saturno', 'Urano', 'Neptuno']\n"
     ]
    }
   ],
   "source": [
    "# Crear lista de planetas\n",
    "Planetas=['Mercurio', 'Venus', 'Tierra', 'Marte', 'Jupiter', 'Saturno', 'Urano', 'Neptuno']\n",
    "\n",
    "# Solicitar nombre del planeta\n",
    "user_p=input('Porfavor introduzca el nombre del planeta (empezando con mayúscula):')\n",
    "\n",
    "# Busqueda del planeta en la lista\n",
    "index_p=Planetas.index(user_p)\n",
    "\n",
    "# Mostrar planetas mas cercanos al sol\n",
    "print('Los planetas mas cercanos que '+user_p)\n",
    "print(Planetas[0:index_p])\n",
    "\n",
    "# Mostrar planetas mas lejanos al sol\n",
    "print('Los planetas mas lejanos que '+user_p)\n",
    "print(Planetas[index_p+1:])"
   ]
  }
 ],
 "metadata": {
  "interpreter": {
   "hash": "4dd9bd7fe6af6553ea93019e8b6b792753be72c62d3429a005a853a129a2aea0"
  },
  "kernelspec": {
   "display_name": "Python 3.10.2 64-bit",
   "language": "python",
   "name": "python3"
  },
  "language_info": {
   "codemirror_mode": {
    "name": "ipython",
    "version": 3
   },
   "file_extension": ".py",
   "mimetype": "text/x-python",
   "name": "python",
   "nbconvert_exporter": "python",
   "pygments_lexer": "ipython3",
   "version": "3.10.2"
  },
  "orig_nbformat": 4
 },
 "nbformat": 4,
 "nbformat_minor": 2
}
